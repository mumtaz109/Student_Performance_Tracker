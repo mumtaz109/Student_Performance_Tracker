{
  "nbformat": 4,
  "nbformat_minor": 0,
  "metadata": {
    "colab": {
      "provenance": []
    },
    "kernelspec": {
      "name": "python3",
      "display_name": "Python 3"
    },
    "language_info": {
      "name": "python"
    }
  },
  "cells": [
    {
      "cell_type": "code",
      "execution_count": 5,
      "metadata": {
        "id": "ZY7oVly9i1aN",
        "colab": {
          "base_uri": "https://localhost:8080/"
        },
        "outputId": "89e8a9a2-b041-446e-ec10-bfa0d005d1be"
      },
      "outputs": [
        {
          "output_type": "stream",
          "name": "stdout",
          "text": [
            "Enter student name (or 'done' to finish): M❤.....\n",
            "Enter score for Math: 60\n",
            "Enter score for Science: 50\n",
            "Enter score for English: 80\n",
            "Enter student name (or 'done' to finish): done\n",
            "Student Performance Report:\n",
            "Student: M❤....., Average Score: 63.33, Status: Passing\n",
            "Class Average Score: 63.33\n"
          ]
        }
      ],
      "source": [
        "class Student:\n",
        "    def __init__(self, name, scores):\n",
        "        self.name = name\n",
        "        self.scores = scores\n",
        "\n",
        "    def calculate_average(self):\n",
        "        return sum(self.scores) / len(self.scores)\n",
        "\n",
        "    def is_passing(self, passing_score=40):\n",
        "        return all(score >= passing_score for score in self.scores)\n",
        "\n",
        "\n",
        "class PerformanceTracker:\n",
        "    def __init__(self):\n",
        "        self.students = {}\n",
        "\n",
        "    def add_student(self, name, scores):\n",
        "        student = Student(name, scores)\n",
        "        self.students[name] = student\n",
        "\n",
        "    def calculate_class_average(self):\n",
        "        total_score = sum(student.calculate_average() for student in self.students.values())\n",
        "        return total_score / len(self.students) if self.students else 0\n",
        "\n",
        "    def display_student_performance(self):\n",
        "        print(\"Student Performance Report:\")\n",
        "        for student in self.students.values():\n",
        "            avg_score = student.calculate_average()\n",
        "            status = \"Passing\" if student.is_passing() else \"Needs Improvement\"\n",
        "            print(f\"Student: {student.name}, Average Score: {avg_score:.2f}, Status: {status}\")\n",
        "        print(f\"Class Average Score: {self.calculate_class_average():.2f}\")\n",
        "\n",
        "\n",
        "def input_student_data(tracker):\n",
        "    while True:\n",
        "        name = input(\"Enter student name (or 'done' to finish): \")\n",
        "        if name.lower() == 'done':\n",
        "            break\n",
        "        try:\n",
        "            scores = [int(input(f\"Enter score for {subject}: \")) for subject in [\"Math\", \"Science\", \"English\"]]\n",
        "            tracker.add_student(name, scores)\n",
        "        except ValueError:\n",
        "            print(\"Invalid input. Please enter integer values for scores.\")\n",
        "\n",
        "# Main Program\n",
        "tracker = PerformanceTracker()\n",
        "input_student_data(tracker)\n",
        "tracker.display_student_performance()"
      ]
    }
  ]
}